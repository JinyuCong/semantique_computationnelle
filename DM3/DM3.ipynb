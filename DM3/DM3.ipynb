{
 "cells": [
  {
   "metadata": {
    "ExecuteTime": {
     "end_time": "2024-12-07T14:22:10.715423Z",
     "start_time": "2024-12-07T14:22:10.711598Z"
    }
   },
   "cell_type": "code",
   "source": [
    "import numpy as np\n",
    "from sklearn.decomposition import PCA\n",
    "import matplotlib.pyplot as plt"
   ],
   "id": "f30714259c3082af",
   "outputs": [],
   "execution_count": 58
  },
  {
   "metadata": {
    "ExecuteTime": {
     "end_time": "2024-12-07T14:22:11.052297Z",
     "start_time": "2024-12-07T14:22:11.047740Z"
    }
   },
   "cell_type": "code",
   "source": [
    "def load_vectors(file_path):\n",
    "    word_vecs = {}\n",
    "    with open(file_path) as f:\n",
    "        for line in f:\n",
    "            line = line.strip()\n",
    "            if line and line[0].isalpha():\n",
    "                word = line.split()[0]\n",
    "                vector = [float(e) for e in line.split()[1:]]\n",
    "                word_vecs[word] = np.array(vector)\n",
    "    return word_vecs\n",
    "\n",
    "def extract_vectors(word_vecs, words):\n",
    "    extracted_vecs = []\n",
    "    for word in words:\n",
    "        word_vec = word_vecs[word]\n",
    "        extracted_vecs.append(word_vec)\n",
    "    return np.array(extracted_vecs)\n",
    "\n",
    "# Cette fonction permet de trouver mot le plus proche que l'hypothese distributionnelle dans l'espace sémantique\n",
    "def search_most_similar_word(word1, word2, word3, candidate_words, word_vecs):\n",
    "    word_vec_pairs = {word: word_vecs[word] for word in candidate_words}\n",
    "    \n",
    "    nearest_distance = np.inf\n",
    "    most_similar_word = None\n",
    "    \n",
    "    analogy = word_vec_pairs[word1] - word_vec_pairs[word2] + word_vec_pairs[word3]\n",
    "    \n",
    "    for word, vec in word_vec_pairs.items():\n",
    "        distance = np.linalg.norm(analogy - vec)\n",
    "        print(f\"distance between analogy and word {word} = {distance}\")\n",
    "        if distance < nearest_distance:\n",
    "            nearest_distance = distance\n",
    "            most_similar_word = word\n",
    "    print(f\"the most similar word of analogy {word1} - {word2} + {word3} is {most_similar_word}\")"
   ],
   "id": "9721562d73c3aaee",
   "outputs": [],
   "execution_count": 59
  },
  {
   "metadata": {
    "ExecuteTime": {
     "end_time": "2024-12-07T14:22:12.269468Z",
     "start_time": "2024-12-07T14:22:11.563002Z"
    }
   },
   "cell_type": "code",
   "source": [
    "word_vecs = load_vectors(\"./vectors_text8.txt\")\n",
    "words = ['man', 'woman', 'king', 'queen', 'cat', 'dog', 'mother', 'father', 'doctor', 'nurse', 'horse', 'beijing', 'paris', 'china', 'france']\n",
    "extracted_vecs = extract_vectors(word_vecs, words)\n",
    "print(len(word_vecs))\n",
    "pca = PCA(n_components=2)\n",
    "vectors_2D = pca.fit_transform(extracted_vecs)\n",
    "\n",
    "plt.scatter(vectors_2D[:, 0], vectors_2D[:, 1])\n",
    "for i, word in enumerate(words):\n",
    "    plt.annotate(\n",
    "        word,\n",
    "        xy=(vectors_2D[i, 0], vectors_2D[i, 1]),\n",
    "        xytext=(-10, 10),\n",
    "        textcoords='offset points'\n",
    "    )\n",
    "    \n",
    "plt.show()"
   ],
   "id": "33affb19bc61b184",
   "outputs": [
    {
     "name": "stdout",
     "output_type": "stream",
     "text": [
      "71290\n"
     ]
    },
    {
     "data": {
      "text/plain": [
       "<Figure size 640x480 with 1 Axes>"
      ],
      "image/png": "[encoded data removed]"
     },
     "metadata": {},
     "output_type": "display_data"
    }
   ],
   "execution_count": 60
  },
  {
   "metadata": {
    "ExecuteTime": {
     "end_time": "2024-12-07T12:24:12.918061Z",
     "start_time": "2024-12-07T12:24:12.913597Z"
    }
   },
   "cell_type": "code",
   "source": "analogy1 = search_most_similar_word('king', 'man', 'woman', words, word_vecs)",
   "id": "cdb5ab9e44929dae",
   "outputs": [
    {
     "name": "stdout",
     "output_type": "stream",
     "text": [
      "distance between analogy and word man = 5.981596139628285\n",
      "distance between analogy and word woman = 4.948155939827281\n",
      "distance between analogy and word king = 2.9407704098868375\n",
      "distance between analogy and word queen = 3.775225298360748\n",
      "distance between analogy and word cat = 6.923189160077095\n",
      "distance between analogy and word dog = 7.260581488060994\n",
      "distance between analogy and word mother = 4.457772429691874\n",
      "distance between analogy and word father = 4.678484123139994\n",
      "distance between analogy and word doctor = 6.67747425165676\n",
      "distance between analogy and word nurse = 6.177063128163659\n",
      "distance between analogy and word horse = 7.113689197440735\n",
      "distance between analogy and word beijing = 7.069784873090694\n",
      "distance between analogy and word paris = 5.901526709864322\n",
      "distance between analogy and word china = 6.127939876716889\n",
      "distance between analogy and word france = 4.987235089710931\n",
      "the most similar word of analogy king - man + woman is king\n"
     ]
    }
   ],
   "execution_count": 41
  },
  {
   "cell_type": "code",
   "source": "search_most_similar_word('father', 'man', 'woman', words, word_vecs)",
   "metadata": {
    "collapsed": false,
    "ExecuteTime": {
     "end_time": "2024-12-07T12:24:30.340927Z",
     "start_time": "2024-12-07T12:24:30.337246Z"
    }
   },
   "id": "f263ea43856f611d",
   "outputs": [
    {
     "name": "stdout",
     "output_type": "stream",
     "text": [
      "distance between analogy and word man = 5.64311157839033\n",
      "distance between analogy and word woman = 3.7662412867200903\n",
      "distance between analogy and word king = 5.883705724938409\n",
      "distance between analogy and word queen = 5.301479574159464\n",
      "distance between analogy and word cat = 6.161876371759336\n",
      "distance between analogy and word dog = 6.747441884637392\n",
      "distance between analogy and word mother = 2.7366022841191224\n",
      "distance between analogy and word father = 2.9407704098868375\n",
      "distance between analogy and word doctor = 6.011022850045073\n",
      "distance between analogy and word nurse = 5.450552921138185\n",
      "distance between analogy and word horse = 6.701615120040542\n",
      "distance between analogy and word beijing = 7.059907607911665\n",
      "distance between analogy and word paris = 6.005267520298242\n",
      "distance between analogy and word china = 6.418380093466731\n",
      "distance between analogy and word france = 6.05009185193225\n",
      "the most similar word of analogy father - man + woman is mother\n"
     ]
    }
   ],
   "execution_count": 42
  },
  {
   "cell_type": "code",
   "source": "search_most_similar_word('doctor', 'man', 'woman', words, word_vecs)",
   "metadata": {
    "collapsed": false,
    "ExecuteTime": {
     "end_time": "2024-12-07T12:24:32.198394Z",
     "start_time": "2024-12-07T12:24:32.191571Z"
    }
   },
   "id": "233a5d0d73666eba",
   "outputs": [
    {
     "name": "stdout",
     "output_type": "stream",
     "text": [
      "distance between analogy and word man = 6.189997983577619\n",
      "distance between analogy and word woman = 4.965045257241166\n",
      "distance between analogy and word king = 7.023316402988478\n",
      "distance between analogy and word queen = 6.333556022396423\n",
      "distance between analogy and word cat = 5.878266803121307\n",
      "distance between analogy and word dog = 6.468970799958754\n",
      "distance between analogy and word mother = 5.091095721249209\n",
      "distance between analogy and word father = 5.304802282037664\n",
      "distance between analogy and word doctor = 2.9407704098868375\n",
      "distance between analogy and word nurse = 3.7225647424570063\n",
      "distance between analogy and word horse = 6.164867042827282\n",
      "distance between analogy and word beijing = 6.812231957220114\n",
      "distance between analogy and word paris = 6.5224684962077815\n",
      "distance between analogy and word china = 6.612284981359017\n",
      "distance between analogy and word france = 6.993200986515903\n",
      "the most similar word of analogy doctor - man + woman is doctor\n"
     ]
    }
   ],
   "execution_count": 43
  },
  {
   "metadata": {
    "ExecuteTime": {
     "end_time": "2024-12-07T12:24:34.277349Z",
     "start_time": "2024-12-07T12:24:34.272750Z"
    }
   },
   "cell_type": "code",
   "source": "search_most_similar_word('beijing', 'china', 'france', words, word_vecs)",
   "id": "af9677b3f5901c99",
   "outputs": [
    {
     "name": "stdout",
     "output_type": "stream",
     "text": [
      "distance between analogy and word man = 6.307461238431751\n",
      "distance between analogy and word woman = 6.069454785328332\n",
      "distance between analogy and word king = 5.909334844341874\n",
      "distance between analogy and word queen = 4.917493265048362\n",
      "distance between analogy and word cat = 6.386031167638159\n",
      "distance between analogy and word dog = 6.472942872054024\n",
      "distance between analogy and word mother = 5.6435378206084525\n",
      "distance between analogy and word father = 6.041765270567866\n",
      "distance between analogy and word doctor = 6.843786202679186\n",
      "distance between analogy and word nurse = 5.9618404191637\n",
      "distance between analogy and word horse = 6.471809831908845\n",
      "distance between analogy and word beijing = 4.34288325922687\n",
      "distance between analogy and word paris = 3.521656362799897\n",
      "distance between analogy and word china = 5.829551349608476\n",
      "distance between analogy and word france = 4.219501369254073\n",
      "the most similar word of analogy beijing - china + france is paris\n"
     ]
    }
   ],
   "execution_count": 44
  },
  {
   "metadata": {
    "ExecuteTime": {
     "end_time": "2024-12-07T12:56:54.840240Z",
     "start_time": "2024-12-07T12:56:53.255527Z"
    }
   },
   "cell_type": "code",
   "source": [
    "def random_delete_word(word_to_delete, origin_file_path, new_file_path):\n",
    "    with open(origin_file_path, 'r', encoding='utf-8') as f:\n",
    "        content = f.read().split()\n",
    "        \n",
    "    random = np.random.rand()\n",
    "    for index, word in enumerate(content):\n",
    "        if word == word_to_delete and random < 0.5:\n",
    "            del content[index]\n",
    "    \n",
    "    content_after_deletion = \" \".join(content)\n",
    "        \n",
    "    with open(new_file_path, 'w', encoding='utf-8') as f:\n",
    "        f.write(content_after_deletion)\n",
    "            \n",
    "random_delete_word('king', \"./GloVe/text8\", './text8_after_deletion_king.txt')"
   ],
   "id": "757539ac3b21973d",
   "outputs": [],
   "execution_count": 52
  },
  {
   "metadata": {
    "ExecuteTime": {
     "end_time": "2024-12-07T13:57:04.292304Z",
     "start_time": "2024-12-07T13:57:03.603983Z"
    }
   },
   "cell_type": "code",
   "source": [
    "word_vec_del_king = load_vectors(\"./vectors_deletion_king.txt\")\n",
    "words = ['man', 'woman', 'king', 'queen', 'cat', 'dog', 'mother', 'father', 'doctor', 'nurse', 'horse', 'beijing', 'paris', 'china', 'france']\n",
    "extracted_vecs_del_king = extract_vectors(word_vecs, words)\n",
    "vectors_2D_del_king = pca.fit_transform(extracted_vecs_del_king)\n",
    "plt.scatter(vectors_2D_del_king[:, 0], vectors_2D_del_king[:, 1])\n",
    "for i, word in enumerate(words):\n",
    "    plt.annotate(\n",
    "        word,\n",
    "        xy=(vectors_2D_del_king[i, 0], vectors_2D_del_king[i, 1]),\n",
    "        xytext=(-10, 10),\n",
    "        textcoords='offset points'\n",
    "    )"
   ],
   "id": "c2166a954dc78a39",
   "outputs": [
    {
     "data": {
      "text/plain": [
       "<Figure size 640x480 with 1 Axes>"
      ],
      "image/png": "[encoded data removed]"
     },
     "metadata": {},
     "output_type": "display_data"
    }
   ],
   "execution_count": 56
  },
  {
   "metadata": {
    "ExecuteTime": {
     "end_time": "2024-12-07T13:58:52.918491Z",
     "start_time": "2024-12-07T13:58:52.915147Z"
    }
   },
   "cell_type": "code",
   "source": "search_most_similar_word('king', 'man', 'woman', words, word_vec_del_king)",
   "id": "54328693d3edfeca",
   "outputs": [
    {
     "name": "stdout",
     "output_type": "stream",
     "text": [
      "distance between analogy and word man = 5.600139295384982\n",
      "distance between analogy and word woman = 4.952544003436012\n",
      "distance between analogy and word king = 2.7048579307155856\n",
      "distance between analogy and word queen = 3.177296731535316\n",
      "distance between analogy and word cat = 6.4685955240889035\n",
      "distance between analogy and word dog = 6.645781035534425\n",
      "distance between analogy and word mother = 4.315873953817581\n",
      "distance between analogy and word father = 4.320269744829945\n",
      "distance between analogy and word doctor = 5.748436887443142\n",
      "distance between analogy and word nurse = 6.026622814553521\n",
      "distance between analogy and word horse = 6.620526839777481\n",
      "distance between analogy and word beijing = 6.726232180404867\n",
      "distance between analogy and word paris = 5.659916193322654\n",
      "distance between analogy and word china = 5.791989760884338\n",
      "distance between analogy and word france = 4.771510006200657\n",
      "the most similar word of analogy king - man + woman is king\n"
     ]
    }
   ],
   "execution_count": 57
  }
 ],
 "metadata": {
  "kernelspec": {
   "display_name": "Python 3",
   "language": "python",
   "name": "python3"
  },
  "language_info": {
   "codemirror_mode": {
    "name": "ipython",
    "version": 2
   },
   "file_extension": ".py",
   "mimetype": "text/x-python",
   "name": "python",
   "nbconvert_exporter": "python",
   "pygments_lexer": "ipython2",
   "version": "2.7.6"
  }
 },
 "nbformat": 4,
 "nbformat_minor": 5
}
