{
 "cells": [
  {
   "cell_type": "code",
   "outputs": [],
   "source": [
    "import numpy as np\n",
    "from torchtext.vocab import GloVe\n",
    "import torch\n",
    "from torch import nn"
   ],
   "metadata": {
    "collapsed": false,
    "ExecuteTime": {
     "end_time": "2024-12-06T18:51:45.163842Z",
     "start_time": "2024-12-06T18:51:42.477359Z"
    }
   },
   "id": "f30714259c3082af",
   "execution_count": 1
  },
  {
   "cell_type": "code",
   "outputs": [],
   "source": [
    "glove = GloVe(name='6B', dim=300)"
   ],
   "metadata": {
    "collapsed": false,
    "ExecuteTime": {
     "end_time": "2024-12-06T18:52:13.358749Z",
     "start_time": "2024-12-06T18:52:13.101229Z"
    }
   },
   "id": "53c4b00542fdbcf7",
   "execution_count": 4
  },
  {
   "cell_type": "code",
   "outputs": [
    {
     "name": "stdout",
     "output_type": "stream",
     "text": [
      "embedding shape: torch.Size([400000, 300])\n"
     ]
    }
   ],
   "source": [
    "# créer une couche d'embedding avec nn.Embedding\n",
    "# importer les vecteurs déjà entraînné de GloVe dans la couche embedding\n",
    "# maintenant la couche embedding comporte les vecteurs entraînnés par GloVe\n",
    "embedding = nn.Embedding.from_pretrained(glove.vectors)\n",
    "# afficher lal taille des poids dans la couche embeddding\n",
    "print(f\"embedding shape: {embedding.weight.shape}\")"
   ],
   "metadata": {
    "collapsed": false,
    "ExecuteTime": {
     "end_time": "2024-12-06T18:52:16.744242Z",
     "start_time": "2024-12-06T18:52:16.738976Z"
    }
   },
   "id": "b5990a1350ef3fe8",
   "execution_count": 5
  },
  {
   "cell_type": "code",
   "outputs": [
    {
     "name": "stdout",
     "output_type": "stream",
     "text": [
      "man: 300\n",
      "woman: 787\n",
      "king: 691\n",
      "queen: 2060\n",
      "cat: 5450\n",
      "dog: 2926\n",
      "mother: 808\n",
      "father: 629\n",
      "doctor: 2082\n",
      "nurse: 6794\n",
      "horse: 2867\n"
     ]
    }
   ],
   "source": [
    "words = ['man', 'woman', 'king', 'queen', 'cat', 'dog', 'mother', 'father', 'doctor', 'nurse', 'horse']\n",
    "indices = []\n",
    "\n",
    "for word in words:\n",
    "    # glove.stoi permet de transformer un mot en une indice dans glove\n",
    "    index = glove.stoi[word]\n",
    "    indices.append(index)\n",
    "    print(f\"{word}: {index}\")"
   ],
   "metadata": {
    "collapsed": false,
    "ExecuteTime": {
     "end_time": "2024-12-06T18:52:18.758625Z",
     "start_time": "2024-12-06T18:52:18.754624Z"
    }
   },
   "id": "f21cf6f6549125e8",
   "execution_count": 6
  },
  {
   "cell_type": "code",
   "outputs": [
    {
     "name": "stdout",
     "output_type": "stream",
     "text": [
      "vectors shape: (11, 300)\n"
     ]
    }
   ],
   "source": [
    "# transformer la liste d'indices en tensor\n",
    "indices = torch.tensor(indices)\n",
    "# trouver les vecteurs des indices dans glove \n",
    "vectors = embedding(indices).detach().numpy()\n",
    "# affficher la taille \n",
    "print(f\"vectors shape: {vectors.shape}\")"
   ],
   "metadata": {
    "collapsed": false,
    "ExecuteTime": {
     "end_time": "2024-12-06T18:52:21.684059Z",
     "start_time": "2024-12-06T18:52:21.651221Z"
    }
   },
   "id": "a12f56072bd50318",
   "execution_count": 7
  },
  {
   "cell_type": "code",
   "outputs": [
    {
     "data": {
      "text/plain": "<Figure size 640x480 with 1 Axes>",
      "image/png": "[encoded data removed]"
     },
     "metadata": {},
     "output_type": "display_data"
    }
   ],
   "source": [
    "from sklearn.decomposition import PCA\n",
    "import matplotlib.pyplot as plt\n",
    "\n",
    "pca = PCA(n_components=2)\n",
    "vectors_2D = pca.fit_transform(vectors)\n",
    "\n",
    "plt.scatter(vectors_2D[:, 0], vectors_2D[:, 1])\n",
    "for i, word in enumerate(words):\n",
    "    plt.annotate(\n",
    "        word,\n",
    "        xy=(vectors_2D[i, 0], vectors_2D[i, 1]),\n",
    "        xytext=(-10, 10),\n",
    "        textcoords='offset points'\n",
    "    )\n",
    "    \n",
    "plt.show()"
   ],
   "metadata": {
    "collapsed": false,
    "ExecuteTime": {
     "end_time": "2024-12-06T18:52:25.780239Z",
     "start_time": "2024-12-06T18:52:22.503773Z"
    }
   },
   "id": "d7f86b858c9dfdf1",
   "execution_count": 8
  },
  {
   "cell_type": "code",
   "outputs": [
    {
     "name": "stdout",
     "output_type": "stream",
     "text": [
      "[[-0.2205956   0.83459514]\n",
      " [-1.4861952   1.5027728 ]\n",
      " [-0.7705285  -4.9031296 ]\n",
      " [-1.4510264  -4.150012  ]\n",
      " [ 3.6925733   0.64146096]\n",
      " [ 4.016278    0.96514404]\n",
      " [-2.1453943   0.4743323 ]\n",
      " [-1.5345284  -0.09405151]\n",
      " [-1.9975876   2.330584  ]\n",
      " [-2.1902325   2.8515933 ]\n",
      " [ 4.0872364  -0.4532866 ]]\n",
      "['man', 'woman', 'king', 'queen', 'cat', 'dog', 'mother', 'father', 'doctor', 'nurse', 'horse']\n"
     ]
    }
   ],
   "source": [
    "print(vectors_2D)\n",
    "print(words)"
   ],
   "metadata": {
    "collapsed": false,
    "ExecuteTime": {
     "end_time": "2024-12-06T18:52:27.064921Z",
     "start_time": "2024-12-06T18:52:27.061391Z"
    }
   },
   "id": "c1c7eb4c2abc0c2a",
   "execution_count": 9
  },
  {
   "cell_type": "code",
   "outputs": [
    {
     "name": "stdout",
     "output_type": "stream",
     "text": [
      "nearest word of 'king - man + woman': queen\n"
     ]
    }
   ],
   "source": [
    "# Cette fonction permet de trouver mot le plus proche que l'hypothese distributionnelle dans l'espace sémantique\n",
    "def search_nearest_word(x: np.array, vector_ensemble: np.array, words: list[str]) -> str:\n",
    "    minimum_distance = np.inf\n",
    "    nearest_index = None\n",
    "    for index_vec, vec in enumerate(vector_ensemble):\n",
    "        distance = np.linalg.norm(vec - x)\n",
    "        if distance < minimum_distance:\n",
    "            minimum_distance = distance\n",
    "            nearest_index = index_vec\n",
    "\n",
    "    return words[nearest_index]\n",
    "\n",
    "man = vectors_2D[words.index('man')]\n",
    "woman = vectors_2D[words.index('woman')]\n",
    "king = vectors_2D[words.index('king')]\n",
    "queen = vectors_2D[words.index('queen')]\n",
    "\n",
    "distribution = king - man + woman\n",
    "nearest_word_1 = search_nearest_word(distribution, vectors_2D, words)\n",
    "print(f\"nearest word of 'king - man + woman': {nearest_word_1}\")"
   ],
   "metadata": {
    "collapsed": false,
    "ExecuteTime": {
     "end_time": "2024-12-06T18:52:34.871581Z",
     "start_time": "2024-12-06T18:52:34.866579Z"
    }
   },
   "id": "d9057128060ea07a",
   "execution_count": 10
  },
  {
   "cell_type": "code",
   "outputs": [
    {
     "name": "stdout",
     "output_type": "stream",
     "text": [
      "nearest word of 'father - man + woman': mother\n"
     ]
    }
   ],
   "source": [
    "father = vectors_2D[words.index('father')]\n",
    "mother = vectors_2D[words.index('mother')]\n",
    "\n",
    "distribution_2 = father - man + woman\n",
    "nearest_word_2 = search_nearest_word(distribution_2, vectors_2D, words)\n",
    "print(f\"nearest word of 'father - man + woman': {nearest_word_2}\")"
   ],
   "metadata": {
    "collapsed": false,
    "ExecuteTime": {
     "end_time": "2024-12-06T18:52:35.329060Z",
     "start_time": "2024-12-06T18:52:35.325829Z"
    }
   },
   "id": "f263ea43856f611d",
   "execution_count": 11
  },
  {
   "cell_type": "code",
   "outputs": [
    {
     "name": "stdout",
     "output_type": "stream",
     "text": [
      "nearest word of 'doctor - man + woman': nurse\n"
     ]
    }
   ],
   "source": [
    "doctor = vectors_2D[words.index('doctor')]\n",
    "nurse = vectors_2D[words.index('nurse')]\n",
    "\n",
    "distribution_3 = doctor - man + woman\n",
    "nearest_word_3 = search_nearest_word(distribution_3, vectors_2D, words)\n",
    "print(f\"nearest word of 'doctor - man + woman': {nearest_word_3}\")"
   ],
   "metadata": {
    "collapsed": false,
    "ExecuteTime": {
     "end_time": "2024-12-06T18:52:36.147636Z",
     "start_time": "2024-12-06T18:52:36.143896Z"
    }
   },
   "id": "233a5d0d73666eba",
   "execution_count": 12
  },
  {
   "cell_type": "markdown",
   "source": [
    "# GloVe Algorithme"
   ],
   "metadata": {
    "collapsed": false
   },
   "id": "1c514d85959d4e75"
  },
  {
   "cell_type": "code",
   "outputs": [
    {
     "name": "stdout",
     "output_type": "stream",
     "text": [
      "{'be': 0, 'in': 1, 'wise.': 2, 'who': 3, 'kingdom.': 4, 'rules': 5, 'their': 6, 'reign': 7, 'absence': 8, 'aspired': 9, 'often': 10, 'day.': 11, 'king': 12, 'king.': 13, 'govern': 14, 'kingdoms.': 15, 'can': 16, 'man': 17, 'Kings': 18, 'graceful': 19, 'married': 20, 'of': 21, 'grand': 22, 'woman': 23, 'a': 24, 'unite': 25, 'queen': 26, 'is': 27, 'strong': 28, 'and': 29, 'kingdom': 30, 'queens': 31, 'A': 32, 'one': 33, 'together.': 34, 'to': 35, 'The': 36, 'host': 37, 'ceremonies.': 38, 'intelligent.': 39, 'the': 40}\n"
     ]
    }
   ],
   "source": [
    "import numpy as np\n",
    "import spacy\n",
    "from scipy.spatial.distance import cosine\n",
    "\n",
    "nlp = spacy.load(\"fr_core_news_sm\")\n",
    "\n",
    "corpus = [\n",
    "    \"The king is a man who rules a kingdom.\",\n",
    "    \"The queen is a woman who rules a kingdom.\",\n",
    "    \"The man is strong and wise.\",\n",
    "    \"The woman is graceful and intelligent.\",\n",
    "    \"The king married the queen to unite their kingdoms.\",\n",
    "    \"A queen can reign in the absence of a king.\",\n",
    "    \"The man aspired to be a king one day.\",\n",
    "    \"The woman aspired to be a queen one day.\",\n",
    "    \"Kings and queens often host grand ceremonies.\",\n",
    "    \"The king and the queen govern the kingdom together.\",\n",
    "]\n",
    "\n",
    "def build_vocab(corpus):\n",
    "    vocab = set([word for sentence in corpus for word in sentence.split()])\n",
    "    word_to_id = {word: idx for idx, word in enumerate(vocab)}\n",
    "    id_to_word = {idx: word for idx, word in enumerate(vocab)}\n",
    "    return vocab, word_to_id, id_to_word\n",
    "\n",
    "vocab, word_to_id, id_to_word = build_vocab(corpus)\n",
    "vocab_size = len(vocab)\n",
    "print(word_to_id)"
   ],
   "metadata": {
    "collapsed": false,
    "ExecuteTime": {
     "end_time": "2024-12-06T19:19:21.775605Z",
     "start_time": "2024-12-06T19:19:21.291372Z"
    }
   },
   "id": "e22462af1cc626d0",
   "execution_count": 89
  },
  {
   "cell_type": "code",
   "outputs": [
    {
     "data": {
      "text/plain": "array([[0., 0., 0., ..., 0., 0., 0.],\n       [0., 0., 0., ..., 0., 0., 1.],\n       [0., 0., 0., ..., 0., 0., 0.],\n       ...,\n       [0., 0., 0., ..., 0., 0., 0.],\n       [0., 0., 0., ..., 0., 0., 0.],\n       [0., 1., 0., ..., 0., 0., 0.]])"
     },
     "execution_count": 84,
     "metadata": {},
     "output_type": "execute_result"
    }
   ],
   "source": [
    "def build_cooccurrence_matrix(corpus, word_to_id, window_size=10):\n",
    "    coocurrence_matrix = np.zeros((vocab_size, vocab_size))\n",
    "    for sentence in corpus:\n",
    "        words = sentence.split()\n",
    "        for idx, word in enumerate(words):\n",
    "            word_id = word_to_id[word]\n",
    "            neighbours = words[max(idx-window_size, 0) : min(idx+window_size+1, len(words))]\n",
    "            for neighbour in neighbours:\n",
    "                if word != neighbour:\n",
    "                    neighbour_id = word_to_id[neighbour]\n",
    "                    coocurrence_matrix[word_id, neighbour_id] += 1\n",
    "    return coocurrence_matrix\n",
    "\n",
    "coocurrence_matrix = build_cooccurrence_matrix(corpus, word_to_id)\n",
    "coocurrence_matrix\n",
    "            "
   ],
   "metadata": {
    "collapsed": false,
    "ExecuteTime": {
     "end_time": "2024-12-06T19:18:43.118764Z",
     "start_time": "2024-12-06T19:18:43.112333Z"
    }
   },
   "id": "695d6515363e940",
   "execution_count": 84
  },
  {
   "cell_type": "code",
   "outputs": [
    {
     "name": "stdout",
     "output_type": "stream",
     "text": [
      "epoch 0, loss: 0.476813764647957\n",
      "epoch 10, loss: 0.019373637255665092\n",
      "epoch 20, loss: 0.005191220555917363\n",
      "epoch 30, loss: 0.002176401810801429\n",
      "epoch 40, loss: 0.0011606432861347197\n",
      "epoch 50, loss: 0.0007104138338928119\n",
      "epoch 60, loss: 0.0004725036748996603\n",
      "epoch 70, loss: 0.00033151697602814054\n",
      "epoch 80, loss: 0.00024128127712788405\n",
      "epoch 90, loss: 0.00018034501921288722\n"
     ]
    }
   ],
   "source": [
    "embedding_dim = 50\n",
    "np.random.seed(42)\n",
    "W = np.random.rand(vocab_size, embedding_dim)\n",
    "W_context = np.random.rand(vocab_size, embedding_dim)\n",
    "bias = np.random.rand(vocab_size)\n",
    "bias_context = np.random.rand(vocab_size)\n",
    "\n",
    "def glove_loss(X, W, W_context, bias, bias_context, x_max=100, alpha=0.75):\n",
    "    loss = 0\n",
    "    for i in range(vocab_size):\n",
    "        for j in range(vocab_size):\n",
    "            if X[i, j] > 0:\n",
    "                weight = (X[i, j]/x_max) ** alpha if X[i, j] < x_max else 1\n",
    "                J = weight * (W[i] @ W_context[j] + bias[i] + bias_context[j] - np.log(X[i, j])) ** 2\n",
    "                loss += J\n",
    "    loss /= vocab_size ** 2\n",
    "    return loss\n",
    "\n",
    "learning_rate = 0.01\n",
    "epochs = 100\n",
    "x_max = 10\n",
    "alpha = 0.75\n",
    "\n",
    "for epoch in range(epochs):\n",
    "    for i in range(vocab_size):\n",
    "        for j in range(vocab_size):\n",
    "            if coocurrence_matrix[i, j] > 0:\n",
    "                weight = (coocurrence_matrix[i, j] / x_max) ** alpha if coocurrence_matrix[i, j] < x_max else 1\n",
    "                diff = W[i] @ W_context[j] + bias[i] + bias_context[j] - np.log(coocurrence_matrix[i, j])\n",
    "                \n",
    "                grad_W = weight * diff * W_context[j]\n",
    "                grad_W_context = weight * diff * W[i]\n",
    "                grad_bias = weight * diff\n",
    "                grad_bias_context = weight * diff\n",
    "                \n",
    "                W[i] -= learning_rate * grad_W\n",
    "                W_context[j] -= learning_rate * grad_W_context\n",
    "                bias[i] -= learning_rate * grad_bias\n",
    "                bias_context[j] -= learning_rate * grad_bias_context\n",
    "            \n",
    "    if epoch % 10 == 0:\n",
    "        loss = glove_loss(coocurrence_matrix, W, W_context, bias, bias_context)\n",
    "        print(f\"epoch {epoch}, loss: {loss}\")\n",
    "        \n",
    "word_embeddings = W + W_context\n"
   ],
   "metadata": {
    "collapsed": false,
    "ExecuteTime": {
     "end_time": "2024-12-06T19:18:43.645774Z",
     "start_time": "2024-12-06T19:18:43.361422Z"
    }
   },
   "id": "a8b171680f995796",
   "execution_count": 85
  },
  {
   "cell_type": "code",
   "outputs": [
    {
     "name": "stdout",
     "output_type": "stream",
     "text": [
      "1.4242153598634317\n"
     ]
    }
   ],
   "source": [
    "index_king = word_to_id[\"king\"]\n",
    "index_queen = word_to_id[\"queen\"]\n",
    "index_man = word_to_id[\"man\"]\n",
    "index_woman = word_to_id[\"woman\"]\n",
    "\n",
    "index_aspired = word_to_id[\"aspired\"]\n",
    "\n",
    "vec1 = word_embeddings[index_king] - word_embeddings[index_aspired] + word_embeddings[index_woman]\n",
    "vec2 = word_embeddings[index_aspired]\n",
    "print(cosine(vec1, vec2))"
   ],
   "metadata": {
    "collapsed": false,
    "ExecuteTime": {
     "end_time": "2024-12-06T19:18:45.184739Z",
     "start_time": "2024-12-06T19:18:45.182250Z"
    }
   },
   "id": "3a69e6b1f595531f",
   "execution_count": 87
  },
  {
   "cell_type": "code",
   "outputs": [
    {
     "data": {
      "text/plain": "'aspired'"
     },
     "execution_count": 88,
     "metadata": {},
     "output_type": "execute_result"
    }
   ],
   "source": [
    "def search_analogy(word1, word2, word3, word_embeddings, word_to_id, id_to_word):\n",
    "    idx_word1 = word_to_id[word1]\n",
    "    idx_word2 = word_to_id[word2]\n",
    "    idx_word3 = word_to_id[word3]\n",
    "    \n",
    "    analogy = word_embeddings[idx_word1] - word_embeddings[idx_word2] + word_embeddings[idx_word3]\n",
    "    \n",
    "    most_similar_value = 0\n",
    "    most_similar_word = None\n",
    "    for word_index, word_vector in enumerate(word_embeddings):\n",
    "        cosine_sim = cosine(word_vector, analogy)\n",
    "        if cosine_sim > most_similar_value:\n",
    "            most_similar_value = cosine_sim\n",
    "            most_similar_word = id_to_word[word_index]\n",
    "    return most_similar_word\n",
    "    \n",
    "search_analogy('king', 'aspired', 'together.', word_embeddings, word_to_id, id_to_word)\n",
    "    \n",
    "    "
   ],
   "metadata": {
    "collapsed": false,
    "ExecuteTime": {
     "end_time": "2024-12-06T19:18:46.415657Z",
     "start_time": "2024-12-06T19:18:46.409744Z"
    }
   },
   "id": "7228bd481daeab6e",
   "execution_count": 88
  }
 ],
 "metadata": {
  "kernelspec": {
   "display_name": "Python 3",
   "language": "python",
   "name": "python3"
  },
  "language_info": {
   "codemirror_mode": {
    "name": "ipython",
    "version": 2
   },
   "file_extension": ".py",
   "mimetype": "text/x-python",
   "name": "python",
   "nbconvert_exporter": "python",
   "pygments_lexer": "ipython2",
   "version": "2.7.6"
  }
 },
 "nbformat": 4,
 "nbformat_minor": 5
}
