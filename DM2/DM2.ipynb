{
 "cells": [
  {
   "cell_type": "code",
   "outputs": [],
   "source": [
    "import spacy\n",
    "import pandas as pd\n",
    "from sklearn.metrics.pairwise import cosine_similarity\n",
    "\n",
    "nlp = spacy.load(\"fr_core_news_sm\")"
   ],
   "metadata": {
    "collapsed": false,
    "ExecuteTime": {
     "end_time": "2024-11-03T11:47:55.671480Z",
     "start_time": "2024-11-03T11:47:53.483156Z"
    }
   },
   "id": "7e962fcfa537d5e2",
   "execution_count": 8
  },
  {
   "cell_type": "code",
   "execution_count": 9,
   "id": "initial_id",
   "metadata": {
    "collapsed": true,
    "ExecuteTime": {
     "end_time": "2024-11-03T11:47:56.338204Z",
     "start_time": "2024-11-03T11:47:56.333287Z"
    }
   },
   "outputs": [],
   "source": [
    "def context_count(window_size: int, file_path: str) -> pd.DataFrame:\n",
    "    df_dict = {}\n",
    "    \n",
    "    with open(file_path ,\"r\", encoding=\"utf-8\") as f:\n",
    "        content = f.readlines()\n",
    "        for line in content:\n",
    "            doc = nlp(line)\n",
    "            tokens = [token.lemma_.lower() for token in doc if token.is_alpha and not token.is_stop]\n",
    "            for i, token in enumerate(tokens):\n",
    "                if token not in df_dict:\n",
    "                    df_dict[token] = {}\n",
    "                \n",
    "                start = max(0, i - window_size // 2)\n",
    "                end = min(len(tokens), i + window_size // 2 + 1)\n",
    "                \n",
    "                window_words = tokens[start:i] + tokens[i+1:end]\n",
    "                for window_word in window_words:\n",
    "                    if window_word not in df_dict[token]:\n",
    "                        df_dict[token][window_word] = 1\n",
    "                    else:\n",
    "                        df_dict[token][window_word] += 1\n",
    "    df = pd.DataFrame(df_dict).fillna(0)\n",
    "    return df"
   ]
  },
  {
   "cell_type": "code",
   "outputs": [],
   "source": [
    "def generate_candidate_words(df: pd.DataFrame, *args: str) -> list[list]:\n",
    "    candidate_words = []\n",
    "    for word in args:\n",
    "        word_vec = list(df[word])\n",
    "        candidate_words.append([word, word_vec])\n",
    "    return candidate_words"
   ],
   "metadata": {
    "collapsed": false,
    "ExecuteTime": {
     "end_time": "2024-11-03T11:47:56.973024Z",
     "start_time": "2024-11-03T11:47:56.969644Z"
    }
   },
   "id": "35055819eeb729bc",
   "execution_count": 10
  },
  {
   "cell_type": "code",
   "outputs": [],
   "source": [
    "def df_cosine_sims(candidate_words: list) -> pd.DataFrame:\n",
    "    df_dict_sim = {}\n",
    "    for candidate_word in candidate_words:\n",
    "        word = candidate_word[0]\n",
    "        vec = candidate_word[1]\n",
    "        if word not in df_dict_sim:\n",
    "            df_dict_sim[word] = {}\n",
    "        \n",
    "        for other_candidate_word in candidate_words:\n",
    "            other_word = other_candidate_word[0]\n",
    "            other_vec = other_candidate_word[1]\n",
    "            sim = cosine_similarity([vec], [other_vec])\n",
    "            df_dict_sim[word][other_word] = sim[0][0]\n",
    "    df_sim = pd.DataFrame(df_dict_sim)\n",
    "    return df_sim\n"
   ],
   "metadata": {
    "collapsed": false,
    "ExecuteTime": {
     "end_time": "2024-11-03T11:47:57.396138Z",
     "start_time": "2024-11-03T11:47:57.393848Z"
    }
   },
   "id": "66d5602ec00f0981",
   "execution_count": 11
  },
  {
   "cell_type": "code",
   "outputs": [
    {
     "data": {
      "text/plain": "                fiscal  financier    budget    jardin  démissionner\nfiscal        1.000000   0.260011  0.151894  0.006588      0.032940\nfinancier     0.260011   1.000000  0.124309  0.000000      0.082223\nbudget        0.151894   0.124309  1.000000  0.062994      0.062994\njardin        0.006588   0.000000  0.062994  1.000000      0.133333\ndémissionner  0.032940   0.082223  0.062994  0.133333      1.000000",
      "text/html": "<div>\n<style scoped>\n    .dataframe tbody tr th:only-of-type {\n        vertical-align: middle;\n    }\n\n    .dataframe tbody tr th {\n        vertical-align: top;\n    }\n\n    .dataframe thead th {\n        text-align: right;\n    }\n</style>\n<table border=\"1\" class=\"dataframe\">\n  <thead>\n    <tr style=\"text-align: right;\">\n      <th></th>\n      <th>fiscal</th>\n      <th>financier</th>\n      <th>budget</th>\n      <th>jardin</th>\n      <th>démissionner</th>\n    </tr>\n  </thead>\n  <tbody>\n    <tr>\n      <th>fiscal</th>\n      <td>1.000000</td>\n      <td>0.260011</td>\n      <td>0.151894</td>\n      <td>0.006588</td>\n      <td>0.032940</td>\n    </tr>\n    <tr>\n      <th>financier</th>\n      <td>0.260011</td>\n      <td>1.000000</td>\n      <td>0.124309</td>\n      <td>0.000000</td>\n      <td>0.082223</td>\n    </tr>\n    <tr>\n      <th>budget</th>\n      <td>0.151894</td>\n      <td>0.124309</td>\n      <td>1.000000</td>\n      <td>0.062994</td>\n      <td>0.062994</td>\n    </tr>\n    <tr>\n      <th>jardin</th>\n      <td>0.006588</td>\n      <td>0.000000</td>\n      <td>0.062994</td>\n      <td>1.000000</td>\n      <td>0.133333</td>\n    </tr>\n    <tr>\n      <th>démissionner</th>\n      <td>0.032940</td>\n      <td>0.082223</td>\n      <td>0.062994</td>\n      <td>0.133333</td>\n      <td>1.000000</td>\n    </tr>\n  </tbody>\n</table>\n</div>"
     },
     "execution_count": 12,
     "metadata": {},
     "output_type": "execute_result"
    }
   ],
   "source": [
    "df_four = context_count(4, \"./DEMOCRATIE_ET_CITOYENNETE.txt\")\n",
    "candidate_words_four = generate_candidate_words(df_four, \"fiscal\", \"financier\", \"budget\", \"jardin\", \"démissionner\")\n",
    "df_cosine_sims(candidate_words_four)"
   ],
   "metadata": {
    "collapsed": false,
    "ExecuteTime": {
     "end_time": "2024-11-03T11:48:15.449046Z",
     "start_time": "2024-11-03T11:47:58.048304Z"
    }
   },
   "id": "5e56a85c77eeef73",
   "execution_count": 12
  },
  {
   "cell_type": "code",
   "outputs": [
    {
     "data": {
      "text/plain": "                fiscal  financier    budget    jardin  démissionner\nfiscal        1.000000   0.347816  0.186287  0.008133      0.104638\nfinancier     0.347816   1.000000  0.220175  0.021574      0.093953\nbudget        0.186287   0.220175  1.000000  0.054317      0.092161\njardin        0.008133   0.021574  0.054317  1.000000      0.082479\ndémissionner  0.104638   0.093953  0.092161  0.082479      1.000000",
      "text/html": "<div>\n<style scoped>\n    .dataframe tbody tr th:only-of-type {\n        vertical-align: middle;\n    }\n\n    .dataframe tbody tr th {\n        vertical-align: top;\n    }\n\n    .dataframe thead th {\n        text-align: right;\n    }\n</style>\n<table border=\"1\" class=\"dataframe\">\n  <thead>\n    <tr style=\"text-align: right;\">\n      <th></th>\n      <th>fiscal</th>\n      <th>financier</th>\n      <th>budget</th>\n      <th>jardin</th>\n      <th>démissionner</th>\n    </tr>\n  </thead>\n  <tbody>\n    <tr>\n      <th>fiscal</th>\n      <td>1.000000</td>\n      <td>0.347816</td>\n      <td>0.186287</td>\n      <td>0.008133</td>\n      <td>0.104638</td>\n    </tr>\n    <tr>\n      <th>financier</th>\n      <td>0.347816</td>\n      <td>1.000000</td>\n      <td>0.220175</td>\n      <td>0.021574</td>\n      <td>0.093953</td>\n    </tr>\n    <tr>\n      <th>budget</th>\n      <td>0.186287</td>\n      <td>0.220175</td>\n      <td>1.000000</td>\n      <td>0.054317</td>\n      <td>0.092161</td>\n    </tr>\n    <tr>\n      <th>jardin</th>\n      <td>0.008133</td>\n      <td>0.021574</td>\n      <td>0.054317</td>\n      <td>1.000000</td>\n      <td>0.082479</td>\n    </tr>\n    <tr>\n      <th>démissionner</th>\n      <td>0.104638</td>\n      <td>0.093953</td>\n      <td>0.092161</td>\n      <td>0.082479</td>\n      <td>1.000000</td>\n    </tr>\n  </tbody>\n</table>\n</div>"
     },
     "execution_count": 13,
     "metadata": {},
     "output_type": "execute_result"
    }
   ],
   "source": [
    "df_six = context_count(6, \"./DEMOCRATIE_ET_CITOYENNETE.txt\")\n",
    "candidate_words_six = generate_candidate_words(df_six, \"fiscal\", \"financier\", \"budget\", \"jardin\", \"démissionner\")\n",
    "df_cosine_sims(candidate_words_six)"
   ],
   "metadata": {
    "collapsed": false,
    "ExecuteTime": {
     "end_time": "2024-11-03T11:48:32.318235Z",
     "start_time": "2024-11-03T11:48:19.261977Z"
    }
   },
   "id": "6bfc711ec03bd13f",
   "execution_count": 13
  },
  {
   "cell_type": "code",
   "outputs": [],
   "source": [],
   "metadata": {
    "collapsed": false
   },
   "id": "7e1b688cd9c67669"
  }
 ],
 "metadata": {
  "kernelspec": {
   "display_name": "Python 3",
   "language": "python",
   "name": "python3"
  },
  "language_info": {
   "codemirror_mode": {
    "name": "ipython",
    "version": 2
   },
   "file_extension": ".py",
   "mimetype": "text/x-python",
   "name": "python",
   "nbconvert_exporter": "python",
   "pygments_lexer": "ipython2",
   "version": "2.7.6"
  }
 },
 "nbformat": 4,
 "nbformat_minor": 5
}
