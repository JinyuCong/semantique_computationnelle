{
 "cells": [
  {
   "cell_type": "code",
   "execution_count": 1,
   "id": "initial_id",
   "metadata": {
    "collapsed": true,
    "ExecuteTime": {
     "end_time": "2024-10-16T18:26:39.821369Z",
     "start_time": "2024-10-16T18:26:38.642668Z"
    }
   },
   "outputs": [
    {
     "name": "stderr",
     "output_type": "stream",
     "text": [
      "[nltk_data] Downloading package wordnet to\n",
      "[nltk_data]     C:\\Users\\congtaotao\\AppData\\Roaming\\nltk_data...\n",
      "[nltk_data]   Package wordnet is already up-to-date!\n"
     ]
    }
   ],
   "source": [
    "import nltk\n",
    "nltk.download('wordnet')\n",
    "from nltk.corpus import wordnet as wn\n",
    "import pandas as pd"
   ]
  },
  {
   "cell_type": "code",
   "outputs": [],
   "source": [
    "df_dict = {\n",
    "    \"word1\": [],\n",
    "    \"word2\": [],\n",
    "    \"simlex\": [],\n",
    "    \"path_sim\": [],\n",
    "    \"lch_sim\": [],\n",
    "    \"wup_sim\": []\n",
    "}\n",
    "\n",
    "word_count_nine = 1\n",
    "word_count_two = 1\n",
    "\n",
    "with open(\"./SimLex-999/SimLex-999.txt\", encoding='utf-8') as file:\n",
    "    content = file.readlines()\n",
    "    \n",
    "# 5 paires de mots ayant une distance supérieure à 9\n",
    "for line in content[1:]:\n",
    "    content_line = line.strip().split('\\t')\n",
    "    word1 = content_line[0]\n",
    "    word2 = content_line[1]\n",
    "    pos = content_line[2]\n",
    "    simlex = content_line[3]\n",
    "    if float(simlex) > 9 and pos == \"N\":\n",
    "        word1_synset = wn.synset(word1 + \".n.01\")\n",
    "        word2_synset = wn.synset(word2 + \".n.01\")\n",
    "        if word1_synset.pos() != word2_synset.pos():\n",
    "            continue\n",
    "            \n",
    "        df_dict[\"word1\"].append(word1)\n",
    "        df_dict[\"word2\"].append(word2)\n",
    "        df_dict[\"simlex\"].append(simlex)\n",
    "        \n",
    "        path_sim = word1_synset.path_similarity(word2_synset)\n",
    "        lch_sim = word1_synset.lch_similarity(word2_synset)\n",
    "        wup_sim = word1_synset.wup_similarity(word2_synset)\n",
    "        \n",
    "        df_dict[\"path_sim\"].append(path_sim)\n",
    "        df_dict[\"lch_sim\"].append(lch_sim)\n",
    "        df_dict[\"wup_sim\"].append(wup_sim)\n",
    "            \n",
    "        word_count_nine += 1\n",
    "        if word_count_nine > 5:\n",
    "            break\n",
    "\n",
    "# 5 paires de mots ayant une distance  inférieure à 2\n",
    "for line in content[1:]:\n",
    "    content_line = line.strip().split('\\t')\n",
    "    word1 = content_line[0]\n",
    "    word2 = content_line[1]\n",
    "    pos = content_line[2]\n",
    "    simlex = content_line[3]\n",
    "    if float(simlex) < 2 and pos == \"N\":\n",
    "        word1_synset = wn.synset(word1 + \".n.01\")\n",
    "        word2_synset = wn.synset(word2 + \".n.01\")\n",
    "        if word1_synset.pos() != word2_synset.pos():\n",
    "            continue\n",
    "            \n",
    "        df_dict[\"word1\"].append(word1)\n",
    "        df_dict[\"word2\"].append(word2)\n",
    "        df_dict[\"simlex\"].append(simlex)\n",
    "        \n",
    "        path_sim = word1_synset.path_similarity(word2_synset)\n",
    "        lch_sim = word1_synset.lch_similarity(word2_synset)\n",
    "        wup_sim = word1_synset.wup_similarity(word2_synset)\n",
    "        \n",
    "        df_dict[\"path_sim\"].append(path_sim)\n",
    "        df_dict[\"lch_sim\"].append(lch_sim)\n",
    "        df_dict[\"wup_sim\"].append(wup_sim)\n",
    "        \n",
    "        word_count_two += 1\n",
    "        if word_count_two > 5:\n",
    "            break"
   ],
   "metadata": {
    "collapsed": false,
    "ExecuteTime": {
     "end_time": "2024-10-16T18:26:53.395165Z",
     "start_time": "2024-10-16T18:26:53.383688Z"
    }
   },
   "id": "58b9d44e7fcf9761",
   "execution_count": 3
  },
  {
   "cell_type": "code",
   "outputs": [
    {
     "data": {
      "text/plain": "     word1       word2 simlex  path_sim   lch_sim   wup_sim\n0  student       pupil   9.35  1.000000  3.637586  1.000000\n1  teacher  instructor   9.25  1.000000  3.637586  1.000000\n2     area      region   9.47  0.250000  2.251292  0.727273\n3      cow      cattle   9.52  0.500000  2.944439  0.971429\n4     taxi         cab    9.2  0.076923  1.072637  0.454545\n5    night         day   1.88  0.166667  1.845827  0.545455\n6   bottom         top    0.7  0.142857  1.691676  0.625000\n7      dog         cat   1.75  0.200000  2.028148  0.857143\n8    mouse         cat   1.12  0.166667  1.845827  0.814815\n9    floor     ceiling   1.73  0.166667  1.845827  0.705882",
      "text/html": "<div>\n<style scoped>\n    .dataframe tbody tr th:only-of-type {\n        vertical-align: middle;\n    }\n\n    .dataframe tbody tr th {\n        vertical-align: top;\n    }\n\n    .dataframe thead th {\n        text-align: right;\n    }\n</style>\n<table border=\"1\" class=\"dataframe\">\n  <thead>\n    <tr style=\"text-align: right;\">\n      <th></th>\n      <th>word1</th>\n      <th>word2</th>\n      <th>simlex</th>\n      <th>path_sim</th>\n      <th>lch_sim</th>\n      <th>wup_sim</th>\n    </tr>\n  </thead>\n  <tbody>\n    <tr>\n      <th>0</th>\n      <td>student</td>\n      <td>pupil</td>\n      <td>9.35</td>\n      <td>1.000000</td>\n      <td>3.637586</td>\n      <td>1.000000</td>\n    </tr>\n    <tr>\n      <th>1</th>\n      <td>teacher</td>\n      <td>instructor</td>\n      <td>9.25</td>\n      <td>1.000000</td>\n      <td>3.637586</td>\n      <td>1.000000</td>\n    </tr>\n    <tr>\n      <th>2</th>\n      <td>area</td>\n      <td>region</td>\n      <td>9.47</td>\n      <td>0.250000</td>\n      <td>2.251292</td>\n      <td>0.727273</td>\n    </tr>\n    <tr>\n      <th>3</th>\n      <td>cow</td>\n      <td>cattle</td>\n      <td>9.52</td>\n      <td>0.500000</td>\n      <td>2.944439</td>\n      <td>0.971429</td>\n    </tr>\n    <tr>\n      <th>4</th>\n      <td>taxi</td>\n      <td>cab</td>\n      <td>9.2</td>\n      <td>0.076923</td>\n      <td>1.072637</td>\n      <td>0.454545</td>\n    </tr>\n    <tr>\n      <th>5</th>\n      <td>night</td>\n      <td>day</td>\n      <td>1.88</td>\n      <td>0.166667</td>\n      <td>1.845827</td>\n      <td>0.545455</td>\n    </tr>\n    <tr>\n      <th>6</th>\n      <td>bottom</td>\n      <td>top</td>\n      <td>0.7</td>\n      <td>0.142857</td>\n      <td>1.691676</td>\n      <td>0.625000</td>\n    </tr>\n    <tr>\n      <th>7</th>\n      <td>dog</td>\n      <td>cat</td>\n      <td>1.75</td>\n      <td>0.200000</td>\n      <td>2.028148</td>\n      <td>0.857143</td>\n    </tr>\n    <tr>\n      <th>8</th>\n      <td>mouse</td>\n      <td>cat</td>\n      <td>1.12</td>\n      <td>0.166667</td>\n      <td>1.845827</td>\n      <td>0.814815</td>\n    </tr>\n    <tr>\n      <th>9</th>\n      <td>floor</td>\n      <td>ceiling</td>\n      <td>1.73</td>\n      <td>0.166667</td>\n      <td>1.845827</td>\n      <td>0.705882</td>\n    </tr>\n  </tbody>\n</table>\n</div>"
     },
     "execution_count": 4,
     "metadata": {},
     "output_type": "execute_result"
    }
   ],
   "source": [
    "df = pd.DataFrame.from_dict(df_dict)\n",
    "df"
   ],
   "metadata": {
    "collapsed": false,
    "ExecuteTime": {
     "end_time": "2024-10-16T18:26:55.581397Z",
     "start_time": "2024-10-16T18:26:55.567102Z"
    }
   },
   "id": "20d81e26167b5684",
   "execution_count": 4
  }
 ],
 "metadata": {
  "kernelspec": {
   "display_name": "Python 3",
   "language": "python",
   "name": "python3"
  },
  "language_info": {
   "codemirror_mode": {
    "name": "ipython",
    "version": 2
   },
   "file_extension": ".py",
   "mimetype": "text/x-python",
   "name": "python",
   "nbconvert_exporter": "python",
   "pygments_lexer": "ipython2",
   "version": "2.7.6"
  }
 },
 "nbformat": 4,
 "nbformat_minor": 5
}
